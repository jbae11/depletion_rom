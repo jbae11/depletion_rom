{
 "cells": [
  {
   "cell_type": "code",
   "execution_count": 107,
   "metadata": {},
   "outputs": [],
   "source": [
    "import numpy as np\n",
    "import matplotlib.pyplot as plt\n",
    "import pandas as pd"
   ]
  },
  {
   "cell_type": "code",
   "execution_count": 108,
   "metadata": {},
   "outputs": [
    {
     "name": "stdout",
     "output_type": "stream",
     "text": [
      "2448960\n"
     ]
    }
   ],
   "source": [
    "df = pd.read_csv('curated_with_decay.csv')\n",
    "print(len(df))"
   ]
  },
  {
   "cell_type": "code",
   "execution_count": 109,
   "metadata": {},
   "outputs": [
    {
     "data": {
      "text/plain": [
       "['Unnamed: 0',\n",
       " 'ac-227',\n",
       " 'ag-108m',\n",
       " 'ag-110m',\n",
       " 'am-241',\n",
       " 'am-242m',\n",
       " 'am-243',\n",
       " 'bu',\n",
       " 'c-14',\n",
       " 'ce-144',\n",
       " 'cf-249',\n",
       " 'cf-251',\n",
       " 'cm-242',\n",
       " 'cm-243',\n",
       " 'cm-244',\n",
       " 'cm-245',\n",
       " 'cm-246',\n",
       " 'cm-247',\n",
       " 'cm-248',\n",
       " 'cooling_time',\n",
       " 'cs-134',\n",
       " 'cs-135',\n",
       " 'cs-137',\n",
       " 'eu-152',\n",
       " 'eu-154',\n",
       " 'eu-155',\n",
       " 'evaluation_date',\n",
       " 'h-3',\n",
       " 'i-129',\n",
       " 'init_enr',\n",
       " 'kr-85',\n",
       " 'nb-94',\n",
       " 'nb-95',\n",
       " 'np-237',\n",
       " 'other',\n",
       " 'pa-231',\n",
       " 'pd-107',\n",
       " 'pm-147',\n",
       " 'pu-238',\n",
       " 'pu-239',\n",
       " 'pu-240',\n",
       " 'pu-241',\n",
       " 'pu-242',\n",
       " 'pu-244',\n",
       " 'ra-226',\n",
       " 'reactor_type',\n",
       " 'ru-103',\n",
       " 'ru-106',\n",
       " 'sb-124',\n",
       " 'sb-125',\n",
       " 'se-79',\n",
       " 'sm-151',\n",
       " 'sn-126',\n",
       " 'sr-90',\n",
       " 'tc-99',\n",
       " 'th-229',\n",
       " 'th-230',\n",
       " 'th-232',\n",
       " 'total_mass',\n",
       " 'u-232',\n",
       " 'u-233',\n",
       " 'u-234',\n",
       " 'u-235',\n",
       " 'u-236',\n",
       " 'u-238',\n",
       " 'y-90',\n",
       " 'zr-93',\n",
       " 'zr-95',\n",
       " 'cs-134_norm_activity',\n",
       " 'ce-144_norm_activity',\n",
       " 'ru-106_norm_activity',\n",
       " 'eu-154_norm_activity']"
      ]
     },
     "execution_count": 109,
     "metadata": {},
     "output_type": "execute_result"
    }
   ],
   "source": [
    "iso_list = ['cs-137', 'cs-134', 'ce-144', 'ru-106', 'eu-154']\n",
    "import copy\n",
    "from pyne import material\n",
    "from pyne import nucname\n",
    "\n",
    "x = np.zeros((len(df), len(iso_list)))\n",
    "for i in range(len(df)):\n",
    "    q = dict(df.iloc[i])\n",
    "    q = {k:v for k,v in q.items() if k in iso_list}\n",
    "    mat = material.Material(q).activity()\n",
    "    mat = {nucname.serpent(k).lower():v for k,v in mat.items()}\n",
    "    x[i] = [mat[e] for e in iso_list]\n",
    "    \n",
    "norm_iso_list = iso_list[1:]\n",
    "for indx, val in enumerate(norm_iso_list):\n",
    "    t = x[:, indx+1] / x[:, 0]\n",
    "    df[val+'_norm_activity'] = t\n",
    "list(df)\n",
    "\n",
    "\n"
   ]
  },
  {
   "cell_type": "code",
   "execution_count": 110,
   "metadata": {},
   "outputs": [
    {
     "data": {
      "image/png": "[encoded data removed]",
      "text/plain": [
       "<Figure size 432x288 with 1 Axes>"
      ]
     },
     "metadata": {
      "needs_background": "light"
     },
     "output_type": "display_data"
    },
    {
     "data": {
      "image/png": "[encoded data removed]",
      "text/plain": [
       "<Figure size 432x288 with 1 Axes>"
      ]
     },
     "metadata": {
      "needs_background": "light"
     },
     "output_type": "display_data"
    },
    {
     "data": {
      "image/png": "[encoded data removed]",
      "text/plain": [
       "<Figure size 432x288 with 1 Axes>"
      ]
     },
     "metadata": {
      "needs_background": "light"
     },
     "output_type": "display_data"
    },
    {
     "data": {
      "image/png": "[encoded data removed]",
      "text/plain": [
       "<Figure size 432x288 with 1 Axes>"
      ]
     },
     "metadata": {
      "needs_background": "light"
     },
     "output_type": "display_data"
    }
   ],
   "source": [
    "for i in list(df):\n",
    "    if 'activity' in i:\n",
    "        plt.hist(df[i])\n",
    "        plt.show()\n",
    "        plt.close()"
   ]
  },
  {
   "cell_type": "code",
   "execution_count": 111,
   "metadata": {},
   "outputs": [],
   "source": [
    "df.to_csv('./curated_with_norm_activity.csv')"
   ]
  },
  {
   "cell_type": "code",
   "execution_count": 102,
   "metadata": {},
   "outputs": [],
   "source": [
    "from pyne import material\n",
    "from pyne import nucname\n",
    "q = np.zeros(x.shape)\n",
    "for i in range(len(q)):\n",
    "    t = {k:v for k,v in zip(iso_list, x[i,:])}\n",
    "    mat = material.Material(t).activity()\n",
    "    mat = {nucname.serpent(k).lower():v for k,v in mat.items()}\n",
    "    q[i] = [mat[e] for e in iso_list]"
   ]
  },
  {
   "cell_type": "code",
   "execution_count": 83,
   "metadata": {},
   "outputs": [
    {
     "name": "stdout",
     "output_type": "stream",
     "text": [
      "['cs-134', 'ce-144', 'ru-106', 'eu-154']\n"
     ]
    }
   ],
   "source": [
    "print(iso_list)\n",
    "for indx, val in enumerate(iso_list):\n",
    "    df[val+'_activity'] = q[:, indx]"
   ]
  },
  {
   "cell_type": "code",
   "execution_count": 84,
   "metadata": {},
   "outputs": [
    {
     "data": {
      "text/plain": [
       "['Unnamed: 0',\n",
       " 'ac-227',\n",
       " 'ag-108m',\n",
       " 'ag-110m',\n",
       " 'am-241',\n",
       " 'am-242m',\n",
       " 'am-243',\n",
       " 'bu',\n",
       " 'c-14',\n",
       " 'ce-144',\n",
       " 'cf-249',\n",
       " 'cf-251',\n",
       " 'cm-242',\n",
       " 'cm-243',\n",
       " 'cm-244',\n",
       " 'cm-245',\n",
       " 'cm-246',\n",
       " 'cm-247',\n",
       " 'cm-248',\n",
       " 'cooling_time',\n",
       " 'cs-134',\n",
       " 'cs-135',\n",
       " 'cs-137',\n",
       " 'eu-152',\n",
       " 'eu-154',\n",
       " 'eu-155',\n",
       " 'evaluation_date',\n",
       " 'h-3',\n",
       " 'i-129',\n",
       " 'init_enr',\n",
       " 'kr-85',\n",
       " 'nb-94',\n",
       " 'nb-95',\n",
       " 'np-237',\n",
       " 'other',\n",
       " 'pa-231',\n",
       " 'pd-107',\n",
       " 'pm-147',\n",
       " 'pu-238',\n",
       " 'pu-239',\n",
       " 'pu-240',\n",
       " 'pu-241',\n",
       " 'pu-242',\n",
       " 'pu-244',\n",
       " 'ra-226',\n",
       " 'reactor_type',\n",
       " 'ru-103',\n",
       " 'ru-106',\n",
       " 'sb-124',\n",
       " 'sb-125',\n",
       " 'se-79',\n",
       " 'sm-151',\n",
       " 'sn-126',\n",
       " 'sr-90',\n",
       " 'tc-99',\n",
       " 'th-229',\n",
       " 'th-230',\n",
       " 'th-232',\n",
       " 'total_mass',\n",
       " 'u-232',\n",
       " 'u-233',\n",
       " 'u-234',\n",
       " 'u-235',\n",
       " 'u-236',\n",
       " 'u-238',\n",
       " 'y-90',\n",
       " 'zr-93',\n",
       " 'zr-95',\n",
       " 'cs-134_activity',\n",
       " 'ce-144_activity',\n",
       " 'ru-106_activity',\n",
       " 'eu-154_activity']"
      ]
     },
     "execution_count": 84,
     "metadata": {},
     "output_type": "execute_result"
    }
   ],
   "source": [
    "list(df)"
   ]
  },
  {
   "cell_type": "code",
   "execution_count": 88,
   "metadata": {},
   "outputs": [
    {
     "data": {
      "image/png": "[encoded data removed]",
      "text/plain": [
       "<Figure size 432x288 with 1 Axes>"
      ]
     },
     "metadata": {
      "needs_background": "light"
     },
     "output_type": "display_data"
    },
    {
     "data": {
      "image/png": "[encoded data removed]",
      "text/plain": [
       "<Figure size 432x288 with 1 Axes>"
      ]
     },
     "metadata": {
      "needs_background": "light"
     },
     "output_type": "display_data"
    },
    {
     "data": {
      "image/png": "[encoded data removed]",
      "text/plain": [
       "<Figure size 432x288 with 1 Axes>"
      ]
     },
     "metadata": {
      "needs_background": "light"
     },
     "output_type": "display_data"
    },
    {
     "data": {
      "image/png": "[encoded data removed]",
      "text/plain": [
       "<Figure size 432x288 with 1 Axes>"
      ]
     },
     "metadata": {
      "needs_background": "light"
     },
     "output_type": "display_data"
    }
   ],
   "source": [
    "for i in iso_list:\n",
    "    plt.hist(df[i+'_activity'])\n",
    "    plt.xscale('log')\n",
    "    plt.title(i)\n",
    "    plt.show()\n",
    "    plt.close()"
   ]
  },
  {
   "cell_type": "code",
   "execution_count": 31,
   "metadata": {},
   "outputs": [],
   "source": [
    "x = np.zeros(10)\n",
    "y = np.zeros(10)\n",
    "for i in range(10):\n",
    "    x[i] = df.iloc[i]['cooling_time']\n",
    "    y[i] = df.iloc[i]['ce-144']"
   ]
  },
  {
   "cell_type": "code",
   "execution_count": 32,
   "metadata": {},
   "outputs": [
    {
     "data": {
      "image/png": "[encoded data removed]",
      "text/plain": [
       "<Figure size 432x288 with 1 Axes>"
      ]
     },
     "metadata": {
      "needs_background": "light"
     },
     "output_type": "display_data"
    }
   ],
   "source": [
    "plt.scatter(x,y)\n",
    "plt.ylim(min(y), max(y))\n",
    "plt.yscale('log')"
   ]
  },
  {
   "cell_type": "code",
   "execution_count": null,
   "metadata": {},
   "outputs": [],
   "source": []
  }
 ],
 "metadata": {
  "kernelspec": {
   "display_name": "Python 3",
   "language": "python",
   "name": "python3"
  },
  "language_info": {
   "codemirror_mode": {
    "name": "ipython",
    "version": 3
   },
   "file_extension": ".py",
   "mimetype": "text/x-python",
   "name": "python",
   "nbconvert_exporter": "python",
   "pygments_lexer": "ipython3",
   "version": "3.6.8"
  }
 },
 "nbformat": 4,
 "nbformat_minor": 2
}
