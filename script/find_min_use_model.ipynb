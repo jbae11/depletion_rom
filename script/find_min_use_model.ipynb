{
 "cells": [
  {
   "cell_type": "code",
   "execution_count": 1,
   "metadata": {},
   "outputs": [
    {
     "name": "stderr",
     "output_type": "stream",
     "text": [
      "Using TensorFlow backend.\n"
     ]
    }
   ],
   "source": [
    "import numpy as np\n",
    "import matplotlib.pyplot as plt\n",
    "import pandas as pd\n",
    "from keras.models import Sequential\n",
    "from keras.layers import Dense\n",
    "import pickle\n",
    "from sklearn.model_selection import KFold\n",
    "from keras.layers import Dropout\n",
    "from sklearn.preprocessing import MinMaxScaler\n"
   ]
  },
  {
   "cell_type": "code",
   "execution_count": 2,
   "metadata": {},
   "outputs": [
    {
     "name": "stdout",
     "output_type": "stream",
     "text": [
      "WARNING:tensorflow:From /Users/4ib/anaconda3/lib/python3.6/site-packages/tensorflow/python/framework/op_def_library.py:263: colocate_with (from tensorflow.python.framework.ops) is deprecated and will be removed in a future version.\n",
      "Instructions for updating:\n",
      "Colocations handled automatically by placer.\n",
      "WARNING:tensorflow:From /Users/4ib/anaconda3/lib/python3.6/site-packages/tensorflow/python/ops/math_ops.py:3066: to_int32 (from tensorflow.python.ops.math_ops) is deprecated and will be removed in a future version.\n",
      "Instructions for updating:\n",
      "Use tf.cast instead.\n"
     ]
    },
    {
     "name": "stderr",
     "output_type": "stream",
     "text": [
      "/Users/4ib/anaconda3/lib/python3.6/site-packages/sklearn/base.py:251: UserWarning: Trying to unpickle estimator MinMaxScaler from version 0.20.1 when using version 0.20.0. This might lead to breaking code or invalid results. Use at your own risk.\n",
      "  UserWarning)\n"
     ]
    }
   ],
   "source": [
    "model_dict = pickle.load(open('./ann_model.pkl', 'rb'))\n",
    "\n",
    "model = model_dict['model']\n",
    "xscaler = model_dict['xscaler']\n",
    "yscaler = model_dict['yscaler']\n",
    "iso_list = model_dict['iso_list']\n"
   ]
  },
  {
   "cell_type": "code",
   "execution_count": 4,
   "metadata": {},
   "outputs": [
    {
     "name": "stdout",
     "output_type": "stream",
     "text": [
      "_________________________________________________________________\n",
      "Layer (type)                 Output Shape              Param #   \n",
      "=================================================================\n",
      "dense_5 (Dense)              (None, 2)                 6         \n",
      "_________________________________________________________________\n",
      "dense_6 (Dense)              (None, 128)               384       \n",
      "_________________________________________________________________\n",
      "dense_7 (Dense)              (None, 128)               16512     \n",
      "_________________________________________________________________\n",
      "dense_8 (Dense)              (None, 61)                7869      \n",
      "=================================================================\n",
      "Total params: 24,771\n",
      "Trainable params: 24,771\n",
      "Non-trainable params: 0\n",
      "_________________________________________________________________\n"
     ]
    }
   ],
   "source": [
    "model.summary()"
   ]
  },
  {
   "cell_type": "code",
   "execution_count": 23,
   "metadata": {},
   "outputs": [
    {
     "name": "stdout",
     "output_type": "stream",
     "text": [
      "zr-95 0.000116144\n",
      "zr-93 0.0798246\n",
      "ra-226 5.58349e-12\n",
      "ru-103 6.69383e-06\n",
      "ru-106 0.00789335\n",
      "sb-124 7.38586e-08\n",
      "sb-125 0.00088854\n",
      "pu-238 0.0202674\n",
      "pu-239 0.679545\n",
      "np-237 0.0492314\n",
      "nb-95 0.000141315\n",
      "pa-231 5.30558e-08\n",
      "pd-107 0.0239603\n",
      "pm-147 0.0134687\n",
      "pu-240 0.23605\n",
      "pu-241 0.152071\n",
      "pu-244 3.75657e-06\n",
      "pu-242 0.0516093\n",
      "i-129 0.0162684\n",
      "h-3 5.28178e-06\n",
      "kr-85 0.00259\n",
      "nb-94 1.48297e-07\n",
      "cm-248 9.38956e-09\n",
      "cs-134 0.00937317\n",
      "cs-135 0.047954\n",
      "cm-245 0.000319108\n",
      "cm-244 0.00474868\n",
      "cm-246 2.69582e-05\n",
      "cm-247 3.21239e-07\n",
      "eu-152 1.94574e-06\n",
      "cs-137 0.120308\n",
      "eu-154 0.00267388\n",
      "eu-155 0.000743458\n",
      "am-241 0.0141996\n",
      "am-242m 0.00010906\n",
      "am-243 0.0129268\n",
      "cf-251 4.32961e-11\n",
      "cf-249 2.66433e-10\n",
      "ag-108m 1.96684e-08\n",
      "ag-110m 3.05533e-05\n",
      "ac-227 2.12814e-12\n",
      "cm-243 4.73566e-05\n",
      "cm-242 0.000425685\n",
      "c-14 1.01193e-05\n",
      "ce-144 0.0122561\n",
      "u-234 0.0173323\n",
      "u-235 1.05879\n",
      "u-236 0.416588\n",
      "y-90 1.27889e-05\n",
      "u-238 93.8603\n",
      "th-229 1.26647e-10\n",
      "tc-99 0.0796216\n",
      "sm-151 0.00144083\n",
      "se-79 0.000469561\n",
      "sr-90 0.0505769\n",
      "sn-126 0.0021881\n",
      "th-232 4.49347e-07\n",
      "th-230 2.15049e-07\n",
      "u-232 1.09193e-07\n",
      "u-233 3.8251e-07\n",
      "other 2.99426\n"
     ]
    }
   ],
   "source": [
    "x = xscaler.transform([[3.0, 34000]])\n",
    "y = yscaler.inverse_transform(model.predict(x))[0]\n",
    "for indx, i in enumerate(y):\n",
    "    print(iso_list[indx], i)"
   ]
  },
  {
   "cell_type": "code",
   "execution_count": null,
   "metadata": {},
   "outputs": [],
   "source": []
  }
 ],
 "metadata": {
  "kernelspec": {
   "display_name": "Python 3",
   "language": "python",
   "name": "python3"
  },
  "language_info": {
   "codemirror_mode": {
    "name": "ipython",
    "version": 3
   },
   "file_extension": ".py",
   "mimetype": "text/x-python",
   "name": "python",
   "nbconvert_exporter": "python",
   "pygments_lexer": "ipython3",
   "version": "3.6.8"
  }
 },
 "nbformat": 4,
 "nbformat_minor": 2
}
